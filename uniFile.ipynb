{
 "cells": [
  {
   "cell_type": "markdown",
   "metadata": {
    "collapsed": true
   },
   "source": [
    "### 把一个unicode字符串写入到磁盘中，然后再把它读出并显示出来，写入的时候用UTF-8编码，读出也一样，用UTF-8"
   ]
  },
  {
   "cell_type": "code",
   "execution_count": 2,
   "metadata": {},
   "outputs": [
    {
     "name": "stdout",
     "output_type": "stream",
     "text": [
      "Hello world\n"
     ]
    }
   ],
   "source": [
    "#!/usr/bin/env python\n",
    "\n",
    "CODEC='utf-8'\n",
    "FILE = 'unicode.txt'\n",
    "\n",
    "hello_out = u\"Hello world\\n\"\n",
    "bytes_out = hello_out.encode(CODEC)\n",
    "f = open(FILE,\"w\")\n",
    "f.write(bytes_out)\n",
    "f.close()\n",
    "\n",
    "f = open(FILE,\"r\")\n",
    "bytes_in = f.read()\n",
    "f.close()\n",
    "hello_in = bytes_in.decode(CODEC)\n",
    "print hello_in,"
   ]
  },
  {
   "cell_type": "code",
   "execution_count": null,
   "metadata": {
    "collapsed": true
   },
   "outputs": [],
   "source": []
  }
 ],
 "metadata": {
  "kernelspec": {
   "display_name": "Python 2",
   "language": "python",
   "name": "python2"
  },
  "language_info": {
   "codemirror_mode": {
    "name": "ipython",
    "version": 2
   },
   "file_extension": ".py",
   "mimetype": "text/x-python",
   "name": "python",
   "nbconvert_exporter": "python",
   "pygments_lexer": "ipython2",
   "version": "2.7.12"
  }
 },
 "nbformat": 4,
 "nbformat_minor": 2
}

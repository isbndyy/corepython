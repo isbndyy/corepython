{
 "cells": [
  {
   "cell_type": "markdown",
   "metadata": {
    "collapsed": true
   },
   "source": [
    "###  标识符合法性检查，首先要以字母或者下划线开始，后面要跟字母，下划线或者数字，这个实例只检查长度大于等于2的标识符"
   ]
  },
  {
   "cell_type": "code",
   "execution_count": null,
   "metadata": {},
   "outputs": [
    {
     "name": "stdout",
     "output_type": "stream",
     "text": [
      "Welcome to the Identifier Check v1.0\n",
      "Testes must be at least 2 chars long\n"
     ]
    }
   ],
   "source": [
    "#！uer/bin/env python\n",
    "\n",
    "import string\n",
    "\n",
    "alphas = string.letters + '_'\n",
    "nums = string.digits\n",
    "\n",
    "print 'Welcome to the Identifier Check v1.0'\n",
    "print 'Testes must be at least 2 chars long'\n",
    "myInput = raw_input('Identifier to test?')\n",
    "\n",
    "if len(myInput) > 1:\n",
    "    \n",
    "    if myInput[0] not in alphas:\n",
    "        print '''invalid:first symbol must be alphabetic'''\n",
    "    else:\n",
    "        for otherChar in myInput[1:]:\n",
    "            \n",
    "            if otherChar not in alphas + nums :\n",
    "                print '''invalid:remaining symbols must be alphanumeric'''\n",
    "                break\n",
    "            else:\n",
    "                print \"okay as an identifier\""
   ]
  },
  {
   "cell_type": "code",
   "execution_count": null,
   "metadata": {
    "collapsed": true
   },
   "outputs": [],
   "source": []
  }
 ],
 "metadata": {
  "kernelspec": {
   "display_name": "Python 2",
   "language": "python",
   "name": "python2"
  },
  "language_info": {
   "codemirror_mode": {
    "name": "ipython",
    "version": 2
   },
   "file_extension": ".py",
   "mimetype": "text/x-python",
   "name": "python",
   "nbconvert_exporter": "python",
   "pygments_lexer": "ipython2",
   "version": "2.7.12"
  }
 },
 "nbformat": 4,
 "nbformat_minor": 2
}

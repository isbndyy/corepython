{
 "cells": [
  {
   "cell_type": "markdown",
   "metadata": {},
   "source": [
    "## python背景"
   ]
  },
  {
   "cell_type": "markdown",
   "metadata": {},
   "source": [
    ">* 什么是python\n",
    ">* python的起源\n",
    ">* python的特点\n",
    ">* 下载python\n",
    ">* 安装python\n",
    ">* 运行python\n",
    ">* python文档\n",
    ">* 比较python\n",
    ">* 其他实现"
   ]
  },
  {
   "cell_type": "markdown",
   "metadata": {
    "collapsed": true
   },
   "source": [
    "### 第二章课后练习"
   ]
  },
  {
   "cell_type": "code",
   "execution_count": 1,
   "metadata": {},
   "outputs": [
    {
     "data": {
      "text/plain": [
       "9"
      ]
     },
     "execution_count": 1,
     "metadata": {},
     "output_type": "execute_result"
    }
   ],
   "source": [
    "1 + 2*4"
   ]
  },
  {
   "cell_type": "code",
   "execution_count": 5,
   "metadata": {},
   "outputs": [
    {
     "name": "stdout",
     "output_type": "stream",
     "text": [
      "0\n",
      "1\n",
      "2\n",
      "3\n",
      "4\n",
      "5\n",
      "6\n",
      "7\n",
      "8\n",
      "9\n",
      "10\n"
     ]
    }
   ],
   "source": [
    "i = 0\n",
    "while i <= 10:\n",
    "    print i\n",
    "    i = i+1"
   ]
  },
  {
   "cell_type": "code",
   "execution_count": 6,
   "metadata": {},
   "outputs": [
    {
     "name": "stdout",
     "output_type": "stream",
     "text": [
      "0\n",
      "1\n",
      "2\n",
      "3\n",
      "4\n",
      "5\n",
      "6\n",
      "7\n",
      "8\n",
      "9\n",
      "10\n"
     ]
    }
   ],
   "source": [
    "for i in range(0,11):\n",
    "    print i"
   ]
  },
  {
   "cell_type": "code",
   "execution_count": 8,
   "metadata": {
    "collapsed": true
   },
   "outputs": [],
   "source": [
    "def positive(a):\n",
    "    if a < 0:\n",
    "        print 'negative'\n",
    "    elif a > 0 :\n",
    "        print 'positive'\n",
    "    else :\n",
    "        print '0'"
   ]
  },
  {
   "cell_type": "code",
   "execution_count": 9,
   "metadata": {},
   "outputs": [
    {
     "name": "stdout",
     "output_type": "stream",
     "text": [
      "number :9\n",
      "positive\n"
     ]
    }
   ],
   "source": [
    "a = raw_input('number :')\n",
    "positive(a)"
   ]
  },
  {
   "cell_type": "markdown",
   "metadata": {},
   "source": [
    "### 逐行显示字符串"
   ]
  },
  {
   "cell_type": "code",
   "execution_count": 1,
   "metadata": {},
   "outputs": [
    {
     "name": "stdout",
     "output_type": "stream",
     "text": [
      "please input:isbndyy\n",
      "y\n",
      "y\n",
      "d\n",
      "n\n",
      "b\n",
      "s\n",
      "i\n"
     ]
    }
   ],
   "source": [
    "label = raw_input('please input:')\n",
    "n = len(label)\n",
    "while n!=0:\n",
    "    n = n-1\n",
    "    print label[n] "
   ]
  },
  {
   "cell_type": "code",
   "execution_count": 5,
   "metadata": {},
   "outputs": [
    {
     "name": "stdout",
     "output_type": "stream",
     "text": [
      "please input:isbndyy\n",
      "i\n",
      "s\n",
      "b\n",
      "n\n",
      "d\n",
      "y\n",
      "y\n"
     ]
    }
   ],
   "source": [
    "label = raw_input('please input:')\n",
    "n = len(label)\n",
    "for i in range(0,n):\n",
    "    print label[i] "
   ]
  },
  {
   "cell_type": "markdown",
   "metadata": {},
   "source": [
    "### 循环和操作符"
   ]
  },
  {
   "cell_type": "code",
   "execution_count": 9,
   "metadata": {},
   "outputs": [
    {
     "name": "stdout",
     "output_type": "stream",
     "text": [
      "9\n"
     ]
    }
   ],
   "source": [
    "aList = [1,2,3,4]\n",
    "n = len(aList)\n",
    "sum = 0\n",
    "for i in range(1,n):\n",
    "    sum = sum + aList[i]\n",
    "print sum"
   ]
  },
  {
   "cell_type": "code",
   "execution_count": 18,
   "metadata": {},
   "outputs": [
    {
     "name": "stdout",
     "output_type": "stream",
     "text": [
      "number:9\n",
      "number:8\n",
      "number:7\n",
      "number:6\n",
      "30\n"
     ]
    }
   ],
   "source": [
    "aList[0] = raw_input('number:')\n",
    "aList[1] = raw_input('number:')\n",
    "aList[2] = raw_input('number:')\n",
    "aList[3] = raw_input('number:')\n",
    "aList[0] = int(aList[0])\n",
    "aList[1] = int(aList[1])\n",
    "aList[2] = int(aList[2])\n",
    "aList[3] = int(aList[3])\n",
    "sum = sum_num(aList)\n",
    "print sum"
   ]
  },
  {
   "cell_type": "markdown",
   "metadata": {},
   "source": [
    "### 求平均值"
   ]
  },
  {
   "cell_type": "code",
   "execution_count": 22,
   "metadata": {
    "collapsed": true
   },
   "outputs": [],
   "source": [
    "def ave(aList):\n",
    "    n = len(aList)\n",
    "    sum = 0\n",
    "    for i in range(1,n):\n",
    "        sum = sum + aList[i]\n",
    "    ave = float(sum) / n  \n",
    "    return ave"
   ]
  },
  {
   "cell_type": "code",
   "execution_count": 23,
   "metadata": {},
   "outputs": [
    {
     "name": "stdout",
     "output_type": "stream",
     "text": [
      "number:4\n",
      "number:5\n",
      "number:6\n",
      "number:7\n",
      "4.5\n"
     ]
    }
   ],
   "source": [
    "aList[0] = raw_input('number:')\n",
    "aList[1] = raw_input('number:')\n",
    "aList[2] = raw_input('number:')\n",
    "aList[3] = raw_input('number:')\n",
    "aList[0] = int(aList[0])\n",
    "aList[1] = int(aList[1])\n",
    "aList[2] = int(aList[2])\n",
    "aList[3] = int(aList[3])\n",
    "ave = ave(aList)\n",
    "print ave"
   ]
  },
  {
   "cell_type": "markdown",
   "metadata": {},
   "source": [
    "### 判断输入数值大小"
   ]
  },
  {
   "cell_type": "code",
   "execution_count": 1,
   "metadata": {},
   "outputs": [
    {
     "name": "stdout",
     "output_type": "stream",
     "text": [
      "Enter a number between 1 and 100:99\n",
      "Yes you are right\n"
     ]
    }
   ],
   "source": [
    "x=int(raw_input('Enter a number between 1 and 100:'))  \n",
    "while x <1 or x>100:  \n",
    "        print 'Sorry you are wrong'  \n",
    "        x=int(raw_input('Enter a number between 1 and 100:'))  \n",
    "print 'Yes you are right' "
   ]
  },
  {
   "cell_type": "markdown",
   "metadata": {},
   "source": [
    "###  文本菜单的程序写一个带文本菜单的程序"
   ]
  },
  {
   "cell_type": "code",
   "execution_count": 2,
   "metadata": {},
   "outputs": [
    {
     "name": "stdout",
     "output_type": "stream",
     "text": [
      "\n",
      " choose 1 to calculate the five number;\n",
      " choose 2 to calculate the average of the five number;\n",
      " choose 3 to quit the program\n",
      "Enter your choice:2\n",
      "Enter the first number:2\n",
      "Enter the second number:3\n",
      "Enter the third number:4\n",
      "Enter the forth number:5\n",
      "Enter the fifth number:6\n",
      "4.0\n",
      "Your have enter the wrong number,please try again\n",
      "Enter your choice:1\n",
      "Enter the first number:3\n",
      "Enter the second number:4\n",
      "Enter the third number:5\n",
      "Enter the forth number:6\n",
      "Enter the fifth number:5\n",
      "23\n",
      "Your have enter the wrong number,please try again\n",
      "Enter your choice:x\n"
     ]
    },
    {
     "ename": "ValueError",
     "evalue": "invalid literal for int() with base 10: 'x'",
     "output_type": "error",
     "traceback": [
      "\u001b[0;31m---------------------------------------------------------------------------\u001b[0m",
      "\u001b[0;31mValueError\u001b[0m                                Traceback (most recent call last)",
      "\u001b[0;32m<ipython-input-2-fab6031b9482>\u001b[0m in \u001b[0;36m<module>\u001b[0;34m()\u001b[0m\n\u001b[1;32m      2\u001b[0m \u001b[0;32mwhile\u001b[0m \u001b[0mTrue\u001b[0m\u001b[0;34m:\u001b[0m\u001b[0;34m\u001b[0m\u001b[0m\n\u001b[1;32m      3\u001b[0m     \u001b[0mtotal\u001b[0m\u001b[0;34m=\u001b[0m\u001b[0;36m0\u001b[0m\u001b[0;34m\u001b[0m\u001b[0m\n\u001b[0;32m----> 4\u001b[0;31m     \u001b[0mflag\u001b[0m\u001b[0;34m=\u001b[0m\u001b[0mint\u001b[0m\u001b[0;34m(\u001b[0m\u001b[0mraw_input\u001b[0m\u001b[0;34m(\u001b[0m\u001b[0;34m'Enter your choice:'\u001b[0m\u001b[0;34m)\u001b[0m\u001b[0;34m)\u001b[0m\u001b[0;34m\u001b[0m\u001b[0m\n\u001b[0m\u001b[1;32m      5\u001b[0m     \u001b[0;32mif\u001b[0m \u001b[0mflag\u001b[0m\u001b[0;34m==\u001b[0m\u001b[0;36m1\u001b[0m\u001b[0;34m:\u001b[0m\u001b[0;34m\u001b[0m\u001b[0m\n\u001b[1;32m      6\u001b[0m         \u001b[0mnum\u001b[0m\u001b[0;34m=\u001b[0m\u001b[0;34m[\u001b[0m\u001b[0mint\u001b[0m\u001b[0;34m(\u001b[0m\u001b[0mraw_input\u001b[0m\u001b[0;34m(\u001b[0m\u001b[0;34m'Enter the first number:'\u001b[0m\u001b[0;34m)\u001b[0m\u001b[0;34m)\u001b[0m\u001b[0;34m,\u001b[0m\u001b[0mint\u001b[0m\u001b[0;34m(\u001b[0m\u001b[0mraw_input\u001b[0m\u001b[0;34m(\u001b[0m\u001b[0;34m'Enter the second number:'\u001b[0m\u001b[0;34m)\u001b[0m\u001b[0;34m)\u001b[0m\u001b[0;34m,\u001b[0m\u001b[0mint\u001b[0m\u001b[0;34m(\u001b[0m\u001b[0mraw_input\u001b[0m\u001b[0;34m(\u001b[0m\u001b[0;34m'Enter the third number:'\u001b[0m\u001b[0;34m)\u001b[0m\u001b[0;34m)\u001b[0m\u001b[0;34m,\u001b[0m\u001b[0mint\u001b[0m\u001b[0;34m(\u001b[0m\u001b[0mraw_input\u001b[0m\u001b[0;34m(\u001b[0m\u001b[0;34m'Enter the forth number:'\u001b[0m\u001b[0;34m)\u001b[0m\u001b[0;34m)\u001b[0m\u001b[0;34m,\u001b[0m\u001b[0mint\u001b[0m\u001b[0;34m(\u001b[0m\u001b[0mraw_input\u001b[0m\u001b[0;34m(\u001b[0m\u001b[0;34m'Enter the fifth number:'\u001b[0m\u001b[0;34m)\u001b[0m\u001b[0;34m)\u001b[0m\u001b[0;34m]\u001b[0m\u001b[0;34m\u001b[0m\u001b[0m\n",
      "\u001b[0;31mValueError\u001b[0m: invalid literal for int() with base 10: 'x'"
     ]
    }
   ],
   "source": [
    "print '\\n choose 1 to calculate the five number;\\n choose 2 to calculate the average of the five number;\\n choose 3 to quit the program'  \n",
    "while True:  \n",
    "    total=0  \n",
    "    flag=int(raw_input('Enter your choice:'))  \n",
    "    if flag==1:  \n",
    "        num=[int(raw_input('Enter the first number:')),int(raw_input('Enter the second number:')),int(raw_input('Enter the third number:')),int(raw_input('Enter the forth number:')),int(raw_input('Enter the fifth number:'))]  \n",
    "        for x in num:  \n",
    "            total+=x  \n",
    "        print total  \n",
    "    if flag==2:  \n",
    "        num=[int(raw_input('Enter the first number:')),int(raw_input('Enter the second number:')),int(raw_input('Enter the third number:')),int(raw_input('Enter the forth number:')),int(raw_input('Enter the fifth number:'))]  \n",
    "        for x in num:  \n",
    "            total+=x  \n",
    "        print float(total/5)  \n",
    "    if flag==3:  \n",
    "        break  \n",
    "    else:  \n",
    "        print 'Your have enter the wrong number,please try again'  "
   ]
  },
  {
   "cell_type": "markdown",
   "metadata": {},
   "source": [
    "### 排序"
   ]
  },
  {
   "cell_type": "code",
   "execution_count": 3,
   "metadata": {},
   "outputs": [
    {
     "name": "stdout",
     "output_type": "stream",
     "text": [
      "Enter three numbers:\n",
      "3\n",
      "4\n",
      "5\n",
      "3 4 5\n"
     ]
    }
   ],
   "source": [
    "print 'Enter three numbers:'  \n",
    "num1=int(raw_input())  \n",
    "num2=int(raw_input())  \n",
    "num3=int(raw_input())  \n",
    "min=num1  \n",
    "if min>num2:  \n",
    "    min=num2  \n",
    "    if min>num3:  \n",
    "        print num3,num2,num1  \n",
    "    elif num1>num3:  \n",
    "        print num2,num3,num1  \n",
    "    else:  \n",
    "        print num2,num1,num3  \n",
    "elif min>num3:  \n",
    "    print num3,num1,num2  \n",
    "elif num3>num2:  \n",
    "    print num1,num2,num3  \n",
    "else:  \n",
    "    print num1,num3,num2 "
   ]
  },
  {
   "cell_type": "code",
   "execution_count": 4,
   "metadata": {},
   "outputs": [
    {
     "name": "stdout",
     "output_type": "stream",
     "text": [
      "Enter three numbers:\n",
      "6\n",
      "7\n",
      "8\n",
      "8 7 6\n"
     ]
    }
   ],
   "source": [
    "    print 'Enter three numbers:'  \n",
    "    num1=int(raw_input())  \n",
    "    num2=int(raw_input())  \n",
    "    num3=int(raw_input())  \n",
    "    max=num1  \n",
    "    if max<num2:  \n",
    "        max=num2  \n",
    "        if max<num3:  \n",
    "            print num3,num2,num1  \n",
    "        elif num1<num3:  \n",
    "            print num2,num3,num1  \n",
    "        else:  \n",
    "            print num2,num1,num3  \n",
    "    elif max<num3:  \n",
    "        print num3,num1,num2  \n",
    "    elif num3<num2:  \n",
    "        print num1,num2,num3  \n",
    "    else:  \n",
    "        print num1,num3,num2  "
   ]
  },
  {
   "cell_type": "code",
   "execution_count": null,
   "metadata": {
    "collapsed": true
   },
   "outputs": [],
   "source": []
  }
 ],
 "metadata": {
  "kernelspec": {
   "display_name": "Python 2",
   "language": "python",
   "name": "python2"
  },
  "language_info": {
   "codemirror_mode": {
    "name": "ipython",
    "version": 2
   },
   "file_extension": ".py",
   "mimetype": "text/x-python",
   "name": "python",
   "nbconvert_exporter": "python",
   "pygments_lexer": "ipython2",
   "version": "2.7.12"
  }
 },
 "nbformat": 4,
 "nbformat_minor": 2
}

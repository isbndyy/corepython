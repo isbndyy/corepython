{
 "cells": [
  {
   "cell_type": "markdown",
   "metadata": {},
   "source": [
    "### 写一个函数 计算并返回两个数的乘积"
   ]
  },
  {
   "cell_type": "code",
   "execution_count": 1,
   "metadata": {},
   "outputs": [
    {
     "name": "stdout",
     "output_type": "stream",
     "text": [
      "8\n",
      "9\n",
      "72\n"
     ]
    }
   ],
   "source": [
    "def mul(a,b):\n",
    "    return a*b\n",
    "\n",
    "if __name__ == '__main__':\n",
    "    a = input()\n",
    "    b = input()\n",
    "    print mul(a,b)"
   ]
  },
  {
   "cell_type": "markdown",
   "metadata": {},
   "source": [
    "### 得分"
   ]
  },
  {
   "cell_type": "code",
   "execution_count": 2,
   "metadata": {},
   "outputs": [
    {
     "name": "stdout",
     "output_type": "stream",
     "text": [
      "98\n",
      "A\n"
     ]
    }
   ],
   "source": [
    "def score(number):\n",
    "    if number <=100 and number >= 90:\n",
    "        return 'A'\n",
    "    elif number >= 80:\n",
    "        return 'B'\n",
    "    elif number >= 70:\n",
    "        return  'C'\n",
    "    elif number >= 60:\n",
    "        return 'D'\n",
    "    else:\n",
    "        return 'E'\n",
    "\n",
    "if __name__ == '__main__':\n",
    "    number = input()\n",
    "    print score(number)"
   ]
  },
  {
   "cell_type": "code",
   "execution_count": 3,
   "metadata": {},
   "outputs": [
    {
     "name": "stdout",
     "output_type": "stream",
     "text": [
      "2400\n",
      "这是闰年\n"
     ]
    }
   ],
   "source": [
    "def year(num):  \n",
    "    if (num % 4==0 and num % 100 !=0) or (num % 400 ==0):  \n",
    "        return '这是闰年'  \n",
    "    else:  \n",
    "        return '这不是闰年'  \n",
    "      \n",
    "if __name__=='__main__':  \n",
    "    n = input()  \n",
    "    print year(n)  "
   ]
  },
  {
   "cell_type": "code",
   "execution_count": 4,
   "metadata": {},
   "outputs": [
    {
     "name": "stdout",
     "output_type": "stream",
     "text": [
      "0.75\n",
      "3.0\n"
     ]
    }
   ],
   "source": [
    "def money(num):  \n",
    "    num = num *100  \n",
    "    a = num // 25  \n",
    "    b = (num - a *25)//10  \n",
    "    c = (num - a* 25 - b *10) //5  \n",
    "    d = (num -a * 25 - b * 10 - c * 5)  \n",
    "    return a+b+c+d  \n",
    "      \n",
    "if __name__=='__main__':  \n",
    "    n = input()  \n",
    "    print money(n)  "
   ]
  },
  {
   "cell_type": "code",
   "execution_count": 8,
   "metadata": {},
   "outputs": [
    {
     "name": "stdout",
     "output_type": "stream",
     "text": [
      "6*6\n",
      "36.0\n"
     ]
    }
   ],
   "source": [
    "def test(a,s,b):  \n",
    "    if s == '+':  \n",
    "        return a+b  \n",
    "    elif s == '-':  \n",
    "        return a-b  \n",
    "    elif s == '*':  \n",
    "        return a*b  \n",
    "    elif s == '/':  \n",
    "        return a // b  \n",
    "    elif s == '%':  \n",
    "        return a%b  \n",
    "    elif s == '**':  \n",
    "        return a**b  \n",
    "    else:  \n",
    "        return 0  \n",
    "      \n",
    "      \n",
    "if __name__=='__main__':  \n",
    "    ss = raw_input()  \n",
    "    if len(ss) == 3:  \n",
    "        print test(float(ss[0]),ss[1],float(ss[2]))  \n",
    "    else:  \n",
    "        print test(float(ss[0]),ss[1:3],float(ss[3]))"
   ]
  },
  {
   "cell_type": "code",
   "execution_count": 9,
   "metadata": {},
   "outputs": [
    {
     "name": "stdout",
     "output_type": "stream",
     "text": [
      "98\n",
      "36.6666666667\n"
     ]
    }
   ],
   "source": [
    "def change(f):  \n",
    "    return (f-32)*(5.0/9.0)      \n",
    "if __name__=='__main__':  \n",
    "    ss = input()  \n",
    "    print change(ss)"
   ]
  },
  {
   "cell_type": "code",
   "execution_count": null,
   "metadata": {
    "collapsed": true
   },
   "outputs": [],
   "source": []
  },
  {
   "cell_type": "code",
   "execution_count": null,
   "metadata": {
    "collapsed": true
   },
   "outputs": [],
   "source": []
  },
  {
   "cell_type": "code",
   "execution_count": null,
   "metadata": {
    "collapsed": true
   },
   "outputs": [],
   "source": []
  },
  {
   "cell_type": "code",
   "execution_count": null,
   "metadata": {
    "collapsed": true
   },
   "outputs": [],
   "source": []
  }
 ],
 "metadata": {
  "kernelspec": {
   "display_name": "Python 2",
   "language": "python",
   "name": "python2"
  },
  "language_info": {
   "codemirror_mode": {
    "name": "ipython",
    "version": 2
   },
   "file_extension": ".py",
   "mimetype": "text/x-python",
   "name": "python",
   "nbconvert_exporter": "python",
   "pygments_lexer": "ipython2",
   "version": "2.7.12"
  }
 },
 "nbformat": 4,
 "nbformat_minor": 2
}

{
 "cells": [
  {
   "cell_type": "markdown",
   "metadata": {},
   "source": [
    "### 把列表作为堆栈用于存储和取回输入的字符串，这个菜单驱动的程序仅使用了列表的append和pop方法"
   ]
  },
  {
   "cell_type": "code",
   "execution_count": 1,
   "metadata": {},
   "outputs": [
    {
     "name": "stdout",
     "output_type": "stream",
     "text": [
      "\n",
      "    p(U)sh\n",
      "    p(O)p\n",
      "    (V)iew\n",
      "    (Q)uit\n",
      "    \n",
      "    Enter choice:U\n",
      "\n",
      "You picked:[u]\n",
      "Enter New string: osj\n",
      "\n",
      "    p(U)sh\n",
      "    p(O)p\n",
      "    (V)iew\n",
      "    (Q)uit\n",
      "    \n",
      "    Enter choice:)\n",
      "\n",
      "You picked:[)]\n",
      "Invalid option,try again\n",
      "\n",
      "    p(U)sh\n",
      "    p(O)p\n",
      "    (V)iew\n",
      "    (Q)uit\n",
      "    \n",
      "    Enter choice:U\n",
      "\n",
      "You picked:[u]\n",
      "Enter New string: s\n",
      "\n",
      "    p(U)sh\n",
      "    p(O)p\n",
      "    (V)iew\n",
      "    (Q)uit\n",
      "    \n",
      "    Enter choice:Q\n",
      "\n",
      "You picked:[q]\n"
     ]
    }
   ],
   "source": [
    "#！usr/bin/env python\n",
    "\n",
    "stack = []\n",
    "\n",
    "def pushit():\n",
    "    stack.append(raw_input('Enter New string: ').strip())\n",
    "    \n",
    "def popit():\n",
    "    if len(stack)==0:\n",
    "        print 'Cannot pop from an empty stack!'\n",
    "    else:\n",
    "        print 'Removed [','stack.pop()',']'\n",
    "\n",
    "def viewstack():\n",
    "    print stack   #calls str() internally\n",
    "    \n",
    "CMDs = {'u':pushit,'o':popit,'v':viewstack}\n",
    "\n",
    "def showmenu():\n",
    "    pr = \"\"\"\n",
    "    p(U)sh\n",
    "    p(O)p\n",
    "    (V)iew\n",
    "    (Q)uit\n",
    "    \n",
    "    Enter choice:\"\"\"\n",
    "    \n",
    "    while True:\n",
    "        while True:\n",
    "            try:\n",
    "                choice = raw_input(pr).strip()[0].lower()\n",
    "            except(EOFError,KeyboardInterrupt,IndexError):\n",
    "                choice = 'q'\n",
    "                \n",
    "            print '\\nYou picked:[%s]' % choice\n",
    "            if choice not in 'uovq':\n",
    "                print 'Invalid option,try again'\n",
    "            else:\n",
    "                break\n",
    "                \n",
    "        if choice == 'q':\n",
    "            break\n",
    "        CMDs[choice]()\n",
    "        \n",
    "if __name__ == '__main__':\n",
    "    showmenu()\n",
    "            "
   ]
  },
  {
   "cell_type": "code",
   "execution_count": null,
   "metadata": {
    "collapsed": true
   },
   "outputs": [],
   "source": []
  }
 ],
 "metadata": {
  "kernelspec": {
   "display_name": "Python 2",
   "language": "python",
   "name": "python2"
  },
  "language_info": {
   "codemirror_mode": {
    "name": "ipython",
    "version": 2
   },
   "file_extension": ".py",
   "mimetype": "text/x-python",
   "name": "python",
   "nbconvert_exporter": "python",
   "pygments_lexer": "ipython2",
   "version": "2.7.12"
  }
 },
 "nbformat": 4,
 "nbformat_minor": 2
}

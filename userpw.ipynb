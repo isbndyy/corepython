{
 "cells": [
  {
   "cell_type": "markdown",
   "metadata": {},
   "source": [
    "### 用于管理用户名和密码的模拟登录系统，此脚本用来接受新用户的信息"
   ]
  },
  {
   "cell_type": "code",
   "execution_count": null,
   "metadata": {},
   "outputs": [
    {
     "name": "stdout",
     "output_type": "stream",
     "text": [
      "\n",
      "(N)ew User Login\n",
      "(E)xisting User Login\n",
      "(Q)uit\n",
      "Enter choice:n\n",
      "\n",
      "You picked:[n]\n",
      "login desired: isbndyy\n",
      "passwd:isbndyy\n",
      "\n",
      "(N)ew User Login\n",
      "(E)xisting User Login\n",
      "(Q)uit\n",
      "Enter choice:e\n",
      "\n",
      "You picked:[e]\n",
      "login: isbndyy\n",
      "passwd:isbndyy\n",
      "welcome back isbndyy\n",
      "\n",
      "(N)ew User Login\n",
      "(E)xisting User Login\n",
      "(Q)uit\n",
      "Enter choice:e\n",
      "\n",
      "You picked:[e]\n",
      "login: \n",
      "passwd:dyy\n",
      "login incorrect\n",
      "\n",
      "(N)ew User Login\n",
      "(E)xisting User Login\n",
      "(Q)uit\n",
      "Enter choice:e\n",
      "\n",
      "You picked:[e]\n",
      "login: isbndyy\n",
      "passwd:isbn\n",
      "login incorrect\n"
     ]
    }
   ],
   "source": [
    "#!/usr/bin/env python\n",
    "\n",
    "db = {}\n",
    "\n",
    "def newuser():\n",
    "    prompt = 'login desired: '\n",
    "    while True:\n",
    "        name = raw_input(prompt)\n",
    "        if db.has_key(name):\n",
    "            prompt = 'name taken, try another: '\n",
    "            continue\n",
    "        else:\n",
    "            break\n",
    "    pwd = raw_input('passwd:')\n",
    "    db[name] = pwd\n",
    "    \n",
    "def olduser():\n",
    "    name = raw_input('login: ')\n",
    "    pwd = raw_input('passwd:')\n",
    "    passwd = db.get(name)\n",
    "    if passwd == pwd:\n",
    "        print 'welcome back',name\n",
    "    else:\n",
    "        print 'login incorrect'\n",
    "        \n",
    "def showmenu():\n",
    "    prompt = \"\"\"\n",
    "(N)ew User Login\n",
    "(E)xisting User Login\n",
    "(Q)uit\n",
    "Enter choice:\"\"\"\n",
    "\n",
    "    done = False\n",
    "    while not done:\n",
    "    \n",
    "        chosen = False\n",
    "        while not chosen:\n",
    "            try:\n",
    "                choice = raw_input(prompt).strip()[0].lower()\n",
    "            except (EOFError,KeyboardInterrupt):\n",
    "                choice = 'q'\n",
    "            print '\\nYou picked:[%s]' % choice\n",
    "            if choice not in 'neq':\n",
    "                print 'invalid option,try again'\n",
    "            else:\n",
    "                chosen = True\n",
    "            \n",
    "        if choice == 'q':done = True\n",
    "        if choice == 'n':newuser()\n",
    "        if choice == 'e':olduser()\n",
    "    \n",
    "if __name__ == '__main__':\n",
    "    showmenu()"
   ]
  },
  {
   "cell_type": "code",
   "execution_count": null,
   "metadata": {
    "collapsed": true
   },
   "outputs": [],
   "source": []
  }
 ],
 "metadata": {
  "kernelspec": {
   "display_name": "Python 2",
   "language": "python",
   "name": "python2"
  },
  "language_info": {
   "codemirror_mode": {
    "name": "ipython",
    "version": 2
   },
   "file_extension": ".py",
   "mimetype": "text/x-python",
   "name": "python",
   "nbconvert_exporter": "python",
   "pygments_lexer": "ipython2",
   "version": "2.7.12"
  }
 },
 "nbformat": 4,
 "nbformat_minor": 2
}
